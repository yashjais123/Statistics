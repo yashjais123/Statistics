{
 "cells": [
  {
   "cell_type": "markdown",
   "id": "0d70d6f4",
   "metadata": {},
   "source": [
    "# 2.ANOVA (Analysis of Variance)"
   ]
  },
  {
   "cell_type": "markdown",
   "id": "597e47ef",
   "metadata": {},
   "source": [
    "# ANOVA is used to compare differt of mean among than 2 group . it does this  by looking at variation in the data and where that\n",
    "#   varitation is found (hence its name ). specifically anova compares the       amount of vartation between group with the amount of\n",
    "#  varitaton within groups"
   ]
  },
  {
   "cell_type": "markdown",
   "id": "b534c076",
   "metadata": {},
   "source": [
    "# 1) Null hypothesis,typically is that all mean are equal.\n",
    "# 2) The independent variales are categorical \n",
    "# 3) Dependent variables are continues"
   ]
  },
  {
   "cell_type": "markdown",
   "id": "f9ae710d",
   "metadata": {},
   "source": [
    "# F value"
   ]
  },
  {
   "cell_type": "markdown",
   "id": "92f95295",
   "metadata": {},
   "source": [
    "# F = Sample mean of between group / sample mean of within group"
   ]
  },
  {
   "cell_type": "code",
   "execution_count": null,
   "id": "a90af0c9",
   "metadata": {},
   "outputs": [],
   "source": []
  },
  {
   "cell_type": "code",
   "execution_count": null,
   "id": "4200e7a3",
   "metadata": {},
   "outputs": [],
   "source": []
  },
  {
   "cell_type": "markdown",
   "id": "741bd0e0",
   "metadata": {},
   "source": [
    "# Realtime research on human body -\n",
    "# \n",
    "# IF differnt type of drinks (Coffee, water, milk, soda etc) have the same effect (reaction time in the moring on human body or not)"
   ]
  },
  {
   "cell_type": "markdown",
   "id": "6cd256fb",
   "metadata": {},
   "source": [
    "# 1) Null Hypothesis -- All the drink average reaction time on humany body is same\n",
    "# 2) Alternate Hypothesis -- All the drink average reaction time on human body is not same"
   ]
  },
  {
   "cell_type": "code",
   "execution_count": 2,
   "id": "617523d2",
   "metadata": {},
   "outputs": [],
   "source": [
    "#"
   ]
  },
  {
   "cell_type": "markdown",
   "id": "86b20f14",
   "metadata": {},
   "source": [
    "# * Hypothesis Construction\n",
    "#\n",
    "# the Null hypothesis for ANOVA says that average of dependent variable are same for all the given group\n",
    "# Alternate hypothesis says mean of dependent variabe are not same for the given group\n",
    "#\n",
    "# - Ho : Mu A = MUB = MUC\n",
    "# - Ha : Not All are equal"
   ]
  },
  {
   "cell_type": "code",
   "execution_count": 3,
   "id": "1aa1f4c1",
   "metadata": {},
   "outputs": [],
   "source": [
    "# stwp 1 ) calculate the means of each semester \n",
    "# step 2) calculate the group mean \n",
    "# step 3) calculate between , within \n",
    "# step 4) calculate the mean square varience of between and within\n",
    "# step 5) calculate F statistics and corrospanding P-value"
   ]
  },
  {
   "cell_type": "code",
   "execution_count": 4,
   "id": "0bd9763f",
   "metadata": {},
   "outputs": [],
   "source": [
    "import pandas as pd"
   ]
  },
  {
   "cell_type": "code",
   "execution_count": 5,
   "id": "e97f6baa",
   "metadata": {},
   "outputs": [
    {
     "data": {
      "text/html": [
       "<div>\n",
       "<style scoped>\n",
       "    .dataframe tbody tr th:only-of-type {\n",
       "        vertical-align: middle;\n",
       "    }\n",
       "\n",
       "    .dataframe tbody tr th {\n",
       "        vertical-align: top;\n",
       "    }\n",
       "\n",
       "    .dataframe thead th {\n",
       "        text-align: right;\n",
       "    }\n",
       "</style>\n",
       "<table border=\"1\" class=\"dataframe\">\n",
       "  <thead>\n",
       "    <tr style=\"text-align: right;\">\n",
       "      <th></th>\n",
       "      <th>Student_ID</th>\n",
       "      <th>Semester</th>\n",
       "      <th>Total_Marks</th>\n",
       "    </tr>\n",
       "  </thead>\n",
       "  <tbody>\n",
       "    <tr>\n",
       "      <th>0</th>\n",
       "      <td>1</td>\n",
       "      <td>1</td>\n",
       "      <td>365</td>\n",
       "    </tr>\n",
       "    <tr>\n",
       "      <th>1</th>\n",
       "      <td>2</td>\n",
       "      <td>3</td>\n",
       "      <td>376</td>\n",
       "    </tr>\n",
       "    <tr>\n",
       "      <th>2</th>\n",
       "      <td>3</td>\n",
       "      <td>1</td>\n",
       "      <td>411</td>\n",
       "    </tr>\n",
       "    <tr>\n",
       "      <th>3</th>\n",
       "      <td>4</td>\n",
       "      <td>3</td>\n",
       "      <td>436</td>\n",
       "    </tr>\n",
       "    <tr>\n",
       "      <th>4</th>\n",
       "      <td>5</td>\n",
       "      <td>2</td>\n",
       "      <td>366</td>\n",
       "    </tr>\n",
       "    <tr>\n",
       "      <th>...</th>\n",
       "      <td>...</td>\n",
       "      <td>...</td>\n",
       "      <td>...</td>\n",
       "    </tr>\n",
       "    <tr>\n",
       "      <th>195</th>\n",
       "      <td>196</td>\n",
       "      <td>1</td>\n",
       "      <td>431</td>\n",
       "    </tr>\n",
       "    <tr>\n",
       "      <th>196</th>\n",
       "      <td>197</td>\n",
       "      <td>3</td>\n",
       "      <td>330</td>\n",
       "    </tr>\n",
       "    <tr>\n",
       "      <th>197</th>\n",
       "      <td>198</td>\n",
       "      <td>1</td>\n",
       "      <td>311</td>\n",
       "    </tr>\n",
       "    <tr>\n",
       "      <th>198</th>\n",
       "      <td>199</td>\n",
       "      <td>1</td>\n",
       "      <td>358</td>\n",
       "    </tr>\n",
       "    <tr>\n",
       "      <th>199</th>\n",
       "      <td>200</td>\n",
       "      <td>2</td>\n",
       "      <td>468</td>\n",
       "    </tr>\n",
       "  </tbody>\n",
       "</table>\n",
       "<p>200 rows × 3 columns</p>\n",
       "</div>"
      ],
      "text/plain": [
       "     Student_ID  Semester  Total_Marks\n",
       "0             1         1          365\n",
       "1             2         3          376\n",
       "2             3         1          411\n",
       "3             4         3          436\n",
       "4             5         2          366\n",
       "..          ...       ...          ...\n",
       "195         196         1          431\n",
       "196         197         3          330\n",
       "197         198         1          311\n",
       "198         199         1          358\n",
       "199         200         2          468\n",
       "\n",
       "[200 rows x 3 columns]"
      ]
     },
     "execution_count": 5,
     "metadata": {},
     "output_type": "execute_result"
    }
   ],
   "source": [
    "hyp = pd.read_csv('Semester marks.csv')\n",
    "hyp"
   ]
  },
  {
   "cell_type": "markdown",
   "id": "a6d7d043",
   "metadata": {},
   "source": [
    "# As per ANOVA we need to find continues data based on the categorical variable\n",
    "# * Total_marks is continue variable and \n",
    "# * Semester is categorical variable\n",
    "\n",
    "# Ho is average marks of each semester are alomost equal\n",
    "# Ha is all are not equal"
   ]
  },
  {
   "cell_type": "code",
   "execution_count": 6,
   "id": "8d152963",
   "metadata": {},
   "outputs": [],
   "source": [
    "import numpy as np\n",
    "import statsmodels.formula.api as sm"
   ]
  },
  {
   "cell_type": "code",
   "execution_count": 8,
   "id": "cfd3cebd",
   "metadata": {},
   "outputs": [
    {
     "data": {
      "text/plain": [
       "<statsmodels.regression.linear_model.RegressionResultsWrapper at 0xc919eb0>"
      ]
     },
     "execution_count": 8,
     "metadata": {},
     "output_type": "execute_result"
    }
   ],
   "source": [
    "mod = sm.ols(\"Total_Marks ~ Semester\", data=hyp).fit()\n",
    "mod"
   ]
  },
  {
   "cell_type": "markdown",
   "id": "21045fd3",
   "metadata": {},
   "source": [
    "# ols = ordinary least squares"
   ]
  },
  {
   "cell_type": "code",
   "execution_count": 9,
   "id": "692d57df",
   "metadata": {},
   "outputs": [],
   "source": [
    "import statsmodels.api as k"
   ]
  },
  {
   "cell_type": "code",
   "execution_count": 10,
   "id": "8800d682",
   "metadata": {},
   "outputs": [
    {
     "data": {
      "text/html": [
       "<div>\n",
       "<style scoped>\n",
       "    .dataframe tbody tr th:only-of-type {\n",
       "        vertical-align: middle;\n",
       "    }\n",
       "\n",
       "    .dataframe tbody tr th {\n",
       "        vertical-align: top;\n",
       "    }\n",
       "\n",
       "    .dataframe thead th {\n",
       "        text-align: right;\n",
       "    }\n",
       "</style>\n",
       "<table border=\"1\" class=\"dataframe\">\n",
       "  <thead>\n",
       "    <tr style=\"text-align: right;\">\n",
       "      <th></th>\n",
       "      <th>df</th>\n",
       "      <th>sum_sq</th>\n",
       "      <th>mean_sq</th>\n",
       "      <th>F</th>\n",
       "      <th>PR(&gt;F)</th>\n",
       "    </tr>\n",
       "  </thead>\n",
       "  <tbody>\n",
       "    <tr>\n",
       "      <th>Semester</th>\n",
       "      <td>1.0</td>\n",
       "      <td>291.846746</td>\n",
       "      <td>291.846746</td>\n",
       "      <td>0.102572</td>\n",
       "      <td>0.749102</td>\n",
       "    </tr>\n",
       "    <tr>\n",
       "      <th>Residual</th>\n",
       "      <td>198.0</td>\n",
       "      <td>563366.873254</td>\n",
       "      <td>2845.287239</td>\n",
       "      <td>NaN</td>\n",
       "      <td>NaN</td>\n",
       "    </tr>\n",
       "  </tbody>\n",
       "</table>\n",
       "</div>"
      ],
      "text/plain": [
       "             df         sum_sq      mean_sq         F    PR(>F)\n",
       "Semester    1.0     291.846746   291.846746  0.102572  0.749102\n",
       "Residual  198.0  563366.873254  2845.287239       NaN       NaN"
      ]
     },
     "execution_count": 10,
     "metadata": {},
     "output_type": "execute_result"
    }
   ],
   "source": [
    "aov_table = k.stats.anova_lm(mod, typ=1)\n",
    "aov_table"
   ]
  },
  {
   "cell_type": "markdown",
   "id": "0adb564f",
   "metadata": {},
   "source": [
    "# Lets see manually if that average marks of each semester are colse to each other"
   ]
  },
  {
   "cell_type": "code",
   "execution_count": 12,
   "id": "68f6f3f9",
   "metadata": {},
   "outputs": [
    {
     "name": "stdout",
     "output_type": "stream",
     "text": [
      " 1st sem avg marks = 403.0\n",
      "2nd sem avg marks = 393.0\n",
      "3rd sem avg marks = 406.0\n"
     ]
    }
   ],
   "source": [
    "# semester 1 Average marks\n",
    "print(\" 1st sem avg marks =\", np.ceil(hyp['Total_Marks'][hyp['Semester']==1].mean()))\n",
    "\n",
    "# semester 2 Average marks\n",
    "print(\"2nd sem avg marks =\", np.ceil(hyp['Total_Marks'][hyp['Semester']==2].mean()))\n",
    "\n",
    "# semester 2 Average marks\n",
    "print(\"3rd sem avg marks =\", np.ceil(hyp['Total_Marks'][hyp['Semester']==3].mean()))"
   ]
  },
  {
   "cell_type": "code",
   "execution_count": null,
   "id": "3c94632f",
   "metadata": {},
   "outputs": [],
   "source": []
  }
 ],
 "metadata": {
  "kernelspec": {
   "display_name": "Python 3 (ipykernel)",
   "language": "python",
   "name": "python3"
  },
  "language_info": {
   "codemirror_mode": {
    "name": "ipython",
    "version": 3
   },
   "file_extension": ".py",
   "mimetype": "text/x-python",
   "name": "python",
   "nbconvert_exporter": "python",
   "pygments_lexer": "ipython3",
   "version": "3.9.12"
  }
 },
 "nbformat": 4,
 "nbformat_minor": 5
}
