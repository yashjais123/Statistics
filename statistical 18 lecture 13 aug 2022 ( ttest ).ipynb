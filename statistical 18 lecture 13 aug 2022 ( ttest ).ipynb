{
 "cells": [
  {
   "cell_type": "markdown",
   "id": "22d9b9d0",
   "metadata": {},
   "source": [
    "# Statistical Tools"
   ]
  },
  {
   "cell_type": "markdown",
   "id": "aa177cc5",
   "metadata": {},
   "source": [
    "# 1) ttest or Student ttest\n",
    "# 2) ANOVA\n",
    "# 3) Chi-Square"
   ]
  },
  {
   "cell_type": "markdown",
   "id": "9bdeb41a",
   "metadata": {},
   "source": [
    "# * 1) ttest"
   ]
  },
  {
   "cell_type": "markdown",
   "id": "66ebb8bc",
   "metadata": {},
   "source": [
    "# * One sample ttest\n",
    "# * Two sample ttest"
   ]
  },
  {
   "cell_type": "code",
   "execution_count": 2,
   "id": "1c7b7b0a",
   "metadata": {},
   "outputs": [],
   "source": [
    "# Conduct ttest when standard deviation is not knows"
   ]
  },
  {
   "cell_type": "code",
   "execution_count": 4,
   "id": "46e74122",
   "metadata": {},
   "outputs": [
    {
     "data": {
      "text/html": [
       "<div>\n",
       "<style scoped>\n",
       "    .dataframe tbody tr th:only-of-type {\n",
       "        vertical-align: middle;\n",
       "    }\n",
       "\n",
       "    .dataframe tbody tr th {\n",
       "        vertical-align: top;\n",
       "    }\n",
       "\n",
       "    .dataframe thead th {\n",
       "        text-align: right;\n",
       "    }\n",
       "</style>\n",
       "<table border=\"1\" class=\"dataframe\">\n",
       "  <thead>\n",
       "    <tr style=\"text-align: right;\">\n",
       "      <th></th>\n",
       "      <th>ID</th>\n",
       "      <th>Gender</th>\n",
       "      <th>Race</th>\n",
       "      <th>SEB</th>\n",
       "      <th>School</th>\n",
       "      <th>Prog</th>\n",
       "      <th>Read</th>\n",
       "      <th>Write</th>\n",
       "      <th>Math1</th>\n",
       "      <th>Math2</th>\n",
       "      <th>SST</th>\n",
       "    </tr>\n",
       "  </thead>\n",
       "  <tbody>\n",
       "    <tr>\n",
       "      <th>0</th>\n",
       "      <td>70</td>\n",
       "      <td>0</td>\n",
       "      <td>4</td>\n",
       "      <td>1</td>\n",
       "      <td>1</td>\n",
       "      <td>1</td>\n",
       "      <td>57</td>\n",
       "      <td>52</td>\n",
       "      <td>41</td>\n",
       "      <td>47</td>\n",
       "      <td>57</td>\n",
       "    </tr>\n",
       "    <tr>\n",
       "      <th>1</th>\n",
       "      <td>121</td>\n",
       "      <td>1</td>\n",
       "      <td>4</td>\n",
       "      <td>2</td>\n",
       "      <td>1</td>\n",
       "      <td>3</td>\n",
       "      <td>68</td>\n",
       "      <td>59</td>\n",
       "      <td>53</td>\n",
       "      <td>63</td>\n",
       "      <td>61</td>\n",
       "    </tr>\n",
       "    <tr>\n",
       "      <th>2</th>\n",
       "      <td>86</td>\n",
       "      <td>0</td>\n",
       "      <td>4</td>\n",
       "      <td>3</td>\n",
       "      <td>1</td>\n",
       "      <td>1</td>\n",
       "      <td>44</td>\n",
       "      <td>33</td>\n",
       "      <td>54</td>\n",
       "      <td>58</td>\n",
       "      <td>31</td>\n",
       "    </tr>\n",
       "    <tr>\n",
       "      <th>3</th>\n",
       "      <td>141</td>\n",
       "      <td>0</td>\n",
       "      <td>4</td>\n",
       "      <td>3</td>\n",
       "      <td>1</td>\n",
       "      <td>3</td>\n",
       "      <td>63</td>\n",
       "      <td>44</td>\n",
       "      <td>47</td>\n",
       "      <td>53</td>\n",
       "      <td>56</td>\n",
       "    </tr>\n",
       "    <tr>\n",
       "      <th>4</th>\n",
       "      <td>172</td>\n",
       "      <td>0</td>\n",
       "      <td>4</td>\n",
       "      <td>2</td>\n",
       "      <td>1</td>\n",
       "      <td>2</td>\n",
       "      <td>47</td>\n",
       "      <td>52</td>\n",
       "      <td>57</td>\n",
       "      <td>53</td>\n",
       "      <td>61</td>\n",
       "    </tr>\n",
       "  </tbody>\n",
       "</table>\n",
       "</div>"
      ],
      "text/plain": [
       "    ID  Gender  Race  SEB  School  Prog  Read  Write  Math1  Math2  SST\n",
       "0   70       0     4    1       1     1    57     52     41     47   57\n",
       "1  121       1     4    2       1     3    68     59     53     63   61\n",
       "2   86       0     4    3       1     1    44     33     54     58   31\n",
       "3  141       0     4    3       1     3    63     44     47     53   56\n",
       "4  172       0     4    2       1     2    47     52     57     53   61"
      ]
     },
     "execution_count": 4,
     "metadata": {},
     "output_type": "execute_result"
    }
   ],
   "source": [
    "import pandas as pd\n",
    "hyp=pd.read_csv('Hypothesis ttest.csv')\n",
    "hyp.head()"
   ]
  },
  {
   "cell_type": "markdown",
   "id": "469e927e",
   "metadata": {},
   "source": [
    "# A teacher want to teach students for a competative exam. she collected sample of student marks from differnt school. and based on her past experience she believes that. there type of student will score more than 60 marks in the exams . now she want to conduct hypothesis test on the marks"
   ]
  },
  {
   "cell_type": "markdown",
   "id": "9d37dcc1",
   "metadata": {},
   "source": [
    "# * Ho = Mu > = 60\n",
    "# * Ha = Mu < 60"
   ]
  },
  {
   "cell_type": "code",
   "execution_count": 6,
   "id": "b3dae4ce",
   "metadata": {},
   "outputs": [
    {
     "data": {
      "text/plain": [
       "52.645"
      ]
     },
     "execution_count": 6,
     "metadata": {},
     "output_type": "execute_result"
    }
   ],
   "source": [
    "hyp['Math1'].mean()"
   ]
  },
  {
   "cell_type": "code",
   "execution_count": 12,
   "id": "0466eb2c",
   "metadata": {},
   "outputs": [],
   "source": [
    "alpha = .05\n",
    "xbar = 52.645\n",
    "mu = 60"
   ]
  },
  {
   "cell_type": "markdown",
   "id": "79fecf08",
   "metadata": {},
   "source": [
    "# alpha = .05\n",
    "# xbar = 52.645\n",
    "# Mu = 60"
   ]
  },
  {
   "cell_type": "markdown",
   "id": "c5074f50",
   "metadata": {},
   "source": [
    "# * One sample ttest"
   ]
  },
  {
   "cell_type": "code",
   "execution_count": 13,
   "id": "bbec4fa8",
   "metadata": {},
   "outputs": [],
   "source": [
    "import scipy.stats as st"
   ]
  },
  {
   "cell_type": "markdown",
   "id": "a06ef675",
   "metadata": {},
   "source": [
    "# since we are conducting test for one sample we will go 1 samle ttest"
   ]
  },
  {
   "cell_type": "code",
   "execution_count": 14,
   "id": "8dbbe80e",
   "metadata": {},
   "outputs": [
    {
     "data": {
      "text/plain": [
       "Ttest_1sampResult(statistic=-11.102736525713398, pvalue=1.3339158110547646e-22)"
      ]
     },
     "execution_count": 14,
     "metadata": {},
     "output_type": "execute_result"
    }
   ],
   "source": [
    "st.ttest_1samp(hyp.Math1,mu)"
   ]
  },
  {
   "cell_type": "markdown",
   "id": "45ee9e8e",
   "metadata": {},
   "source": [
    "# when you run ttest , we get 2 value 1. t.statictis score and 2 . pvalue for two tail"
   ]
  },
  {
   "cell_type": "markdown",
   "id": "c0cc0717",
   "metadata": {},
   "source": [
    "# pvalue /2"
   ]
  },
  {
   "cell_type": "markdown",
   "id": "4216c01d",
   "metadata": {},
   "source": [
    "# lets write this way"
   ]
  },
  {
   "cell_type": "code",
   "execution_count": 15,
   "id": "3185303c",
   "metadata": {},
   "outputs": [],
   "source": [
    "s,p = st.ttest_1samp(hyp.Math1,mu)"
   ]
  },
  {
   "cell_type": "code",
   "execution_count": 16,
   "id": "8b1a8249",
   "metadata": {},
   "outputs": [
    {
     "data": {
      "text/plain": [
       "-11.102736525713398"
      ]
     },
     "execution_count": 16,
     "metadata": {},
     "output_type": "execute_result"
    }
   ],
   "source": [
    "s"
   ]
  },
  {
   "cell_type": "code",
   "execution_count": 17,
   "id": "2667125e",
   "metadata": {},
   "outputs": [
    {
     "data": {
      "text/plain": [
       "1.3339158110547646e-22"
      ]
     },
     "execution_count": 17,
     "metadata": {},
     "output_type": "execute_result"
    }
   ],
   "source": [
    "p"
   ]
  },
  {
   "cell_type": "code",
   "execution_count": 18,
   "id": "4e49ddbf",
   "metadata": {},
   "outputs": [],
   "source": [
    "# s= stats\n",
    "# p = pvalue"
   ]
  },
  {
   "cell_type": "markdown",
   "id": "d30f4ce0",
   "metadata": {},
   "source": [
    "# * Two sample ttest"
   ]
  },
  {
   "cell_type": "markdown",
   "id": "39000bdb",
   "metadata": {},
   "source": [
    "# independent sample\n",
    "# paired sample"
   ]
  },
  {
   "cell_type": "code",
   "execution_count": 19,
   "id": "20cd1d16",
   "metadata": {},
   "outputs": [
    {
     "data": {
      "text/html": [
       "<div>\n",
       "<style scoped>\n",
       "    .dataframe tbody tr th:only-of-type {\n",
       "        vertical-align: middle;\n",
       "    }\n",
       "\n",
       "    .dataframe tbody tr th {\n",
       "        vertical-align: top;\n",
       "    }\n",
       "\n",
       "    .dataframe thead th {\n",
       "        text-align: right;\n",
       "    }\n",
       "</style>\n",
       "<table border=\"1\" class=\"dataframe\">\n",
       "  <thead>\n",
       "    <tr style=\"text-align: right;\">\n",
       "      <th></th>\n",
       "      <th>ID</th>\n",
       "      <th>Gender</th>\n",
       "      <th>Race</th>\n",
       "      <th>SEB</th>\n",
       "      <th>School</th>\n",
       "      <th>Prog</th>\n",
       "      <th>Read</th>\n",
       "      <th>Write</th>\n",
       "      <th>Math1</th>\n",
       "      <th>Math2</th>\n",
       "      <th>SST</th>\n",
       "    </tr>\n",
       "  </thead>\n",
       "  <tbody>\n",
       "    <tr>\n",
       "      <th>0</th>\n",
       "      <td>70</td>\n",
       "      <td>0</td>\n",
       "      <td>4</td>\n",
       "      <td>1</td>\n",
       "      <td>1</td>\n",
       "      <td>1</td>\n",
       "      <td>57</td>\n",
       "      <td>52</td>\n",
       "      <td>41</td>\n",
       "      <td>47</td>\n",
       "      <td>57</td>\n",
       "    </tr>\n",
       "    <tr>\n",
       "      <th>1</th>\n",
       "      <td>121</td>\n",
       "      <td>1</td>\n",
       "      <td>4</td>\n",
       "      <td>2</td>\n",
       "      <td>1</td>\n",
       "      <td>3</td>\n",
       "      <td>68</td>\n",
       "      <td>59</td>\n",
       "      <td>53</td>\n",
       "      <td>63</td>\n",
       "      <td>61</td>\n",
       "    </tr>\n",
       "    <tr>\n",
       "      <th>2</th>\n",
       "      <td>86</td>\n",
       "      <td>0</td>\n",
       "      <td>4</td>\n",
       "      <td>3</td>\n",
       "      <td>1</td>\n",
       "      <td>1</td>\n",
       "      <td>44</td>\n",
       "      <td>33</td>\n",
       "      <td>54</td>\n",
       "      <td>58</td>\n",
       "      <td>31</td>\n",
       "    </tr>\n",
       "    <tr>\n",
       "      <th>3</th>\n",
       "      <td>141</td>\n",
       "      <td>0</td>\n",
       "      <td>4</td>\n",
       "      <td>3</td>\n",
       "      <td>1</td>\n",
       "      <td>3</td>\n",
       "      <td>63</td>\n",
       "      <td>44</td>\n",
       "      <td>47</td>\n",
       "      <td>53</td>\n",
       "      <td>56</td>\n",
       "    </tr>\n",
       "    <tr>\n",
       "      <th>4</th>\n",
       "      <td>172</td>\n",
       "      <td>0</td>\n",
       "      <td>4</td>\n",
       "      <td>2</td>\n",
       "      <td>1</td>\n",
       "      <td>2</td>\n",
       "      <td>47</td>\n",
       "      <td>52</td>\n",
       "      <td>57</td>\n",
       "      <td>53</td>\n",
       "      <td>61</td>\n",
       "    </tr>\n",
       "  </tbody>\n",
       "</table>\n",
       "</div>"
      ],
      "text/plain": [
       "    ID  Gender  Race  SEB  School  Prog  Read  Write  Math1  Math2  SST\n",
       "0   70       0     4    1       1     1    57     52     41     47   57\n",
       "1  121       1     4    2       1     3    68     59     53     63   61\n",
       "2   86       0     4    3       1     1    44     33     54     58   31\n",
       "3  141       0     4    3       1     3    63     44     47     53   56\n",
       "4  172       0     4    2       1     2    47     52     57     53   61"
      ]
     },
     "execution_count": 19,
     "metadata": {},
     "output_type": "execute_result"
    }
   ],
   "source": [
    "hyp.head()"
   ]
  },
  {
   "cell_type": "markdown",
   "id": "51118dc3",
   "metadata": {},
   "source": [
    "# * independent sample "
   ]
  },
  {
   "cell_type": "code",
   "execution_count": 20,
   "id": "f46b433a",
   "metadata": {},
   "outputs": [
    {
     "data": {
      "text/plain": [
       "1    109\n",
       "0     91\n",
       "Name: Gender, dtype: int64"
      ]
     },
     "execution_count": 20,
     "metadata": {},
     "output_type": "execute_result"
    }
   ],
   "source": [
    "hyp['Gender'].value_counts()"
   ]
  },
  {
   "cell_type": "markdown",
   "id": "316898ac",
   "metadata": {},
   "source": [
    "# * How to subset the data on Gender"
   ]
  },
  {
   "cell_type": "code",
   "execution_count": 21,
   "id": "be8a2dc9",
   "metadata": {},
   "outputs": [
    {
     "data": {
      "text/plain": [
       "1     53\n",
       "92    65\n",
       "93    52\n",
       "94    46\n",
       "95    61\n",
       "Name: Math1, dtype: int64"
      ]
     },
     "execution_count": 21,
     "metadata": {},
     "output_type": "execute_result"
    }
   ],
   "source": [
    "hyp[hyp['Gender']==1].Math1.head()"
   ]
  },
  {
   "cell_type": "markdown",
   "id": "9fe00c2e",
   "metadata": {},
   "source": [
    "# * independent sample"
   ]
  },
  {
   "cell_type": "code",
   "execution_count": 22,
   "id": "badcaa45",
   "metadata": {},
   "outputs": [],
   "source": [
    "t,p = st.ttest_ind(hyp[hyp['Gender']==1].Math1,hyp[hyp['Gender']==0].Math1)"
   ]
  },
  {
   "cell_type": "code",
   "execution_count": 23,
   "id": "a0868bb7",
   "metadata": {},
   "outputs": [
    {
     "data": {
      "text/plain": [
       "0.6800544974232143"
      ]
     },
     "execution_count": 23,
     "metadata": {},
     "output_type": "execute_result"
    }
   ],
   "source": [
    "p"
   ]
  },
  {
   "cell_type": "markdown",
   "id": "86717eb2",
   "metadata": {},
   "source": [
    "# alpha 0.680 < 0.05  X failed"
   ]
  },
  {
   "cell_type": "code",
   "execution_count": 25,
   "id": "f67fecff",
   "metadata": {},
   "outputs": [],
   "source": [
    "# we failed to reject Ho"
   ]
  },
  {
   "cell_type": "markdown",
   "id": "c952d93f",
   "metadata": {},
   "source": [
    "# Paired sample / Relational sample"
   ]
  },
  {
   "cell_type": "code",
   "execution_count": 26,
   "id": "c1161b06",
   "metadata": {},
   "outputs": [],
   "source": [
    "t,p = st.ttest_rel(hyp.Math1,hyp.Math2)"
   ]
  },
  {
   "cell_type": "code",
   "execution_count": 27,
   "id": "6af1546e",
   "metadata": {},
   "outputs": [
    {
     "data": {
      "text/plain": [
       "0.17676525605507354"
      ]
     },
     "execution_count": 27,
     "metadata": {},
     "output_type": "execute_result"
    }
   ],
   "source": [
    "p"
   ]
  },
  {
   "cell_type": "markdown",
   "id": "24391e9d",
   "metadata": {},
   "source": [
    "# aplha 0.17 < 0.05 X failed"
   ]
  },
  {
   "cell_type": "code",
   "execution_count": 28,
   "id": "6640e1a4",
   "metadata": {},
   "outputs": [],
   "source": [
    "# we failed to reject Ho"
   ]
  },
  {
   "cell_type": "markdown",
   "id": "328f85e1",
   "metadata": {},
   "source": [
    "# ttest me ship 5% error allowed hota hai \n",
    "# ttest 5% se jada hua to \n",
    "# ANOVA Test"
   ]
  },
  {
   "cell_type": "code",
   "execution_count": null,
   "id": "c2386c70",
   "metadata": {},
   "outputs": [],
   "source": []
  }
 ],
 "metadata": {
  "kernelspec": {
   "display_name": "Python 3 (ipykernel)",
   "language": "python",
   "name": "python3"
  },
  "language_info": {
   "codemirror_mode": {
    "name": "ipython",
    "version": 3
   },
   "file_extension": ".py",
   "mimetype": "text/x-python",
   "name": "python",
   "nbconvert_exporter": "python",
   "pygments_lexer": "ipython3",
   "version": "3.9.12"
  }
 },
 "nbformat": 4,
 "nbformat_minor": 5
}
