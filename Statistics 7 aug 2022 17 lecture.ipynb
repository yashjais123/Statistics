{
 "cells": [
  {
   "cell_type": "code",
   "execution_count": 3,
   "id": "e678e272",
   "metadata": {},
   "outputs": [],
   "source": [
    "# Probabily problem"
   ]
  },
  {
   "cell_type": "code",
   "execution_count": 4,
   "id": "debdf4df",
   "metadata": {},
   "outputs": [],
   "source": [
    "# * Problem 1"
   ]
  },
  {
   "cell_type": "code",
   "execution_count": 5,
   "id": "44bb7eb2",
   "metadata": {},
   "outputs": [],
   "source": [
    "# there are 1000 students who's marks are captured based om their abiliy in ther test.\n",
    "# if the same test is given toa new student what is the probability of getting 50 marks"
   ]
  },
  {
   "cell_type": "code",
   "execution_count": 6,
   "id": "7815b381",
   "metadata": {},
   "outputs": [],
   "source": [
    "from numpy.random import randint as ri\n",
    "import pandas as pd"
   ]
  },
  {
   "cell_type": "code",
   "execution_count": 7,
   "id": "9a064397",
   "metadata": {},
   "outputs": [
    {
     "data": {
      "text/plain": [
       "0    97\n",
       "1    53\n",
       "2    61\n",
       "3    66\n",
       "4    73\n",
       "dtype: int32"
      ]
     },
     "execution_count": 7,
     "metadata": {},
     "output_type": "execute_result"
    }
   ],
   "source": [
    "# Randomly generating 100 int b/w 30 to 1000\n",
    "\n",
    "marks=ri(30,101,1000)\n",
    "stu_marks=pd.Series(marks)\n",
    "stu_marks.head()"
   ]
  },
  {
   "cell_type": "code",
   "execution_count": 8,
   "id": "5aeed6f7",
   "metadata": {},
   "outputs": [],
   "source": [
    "# lets take mean and standed deviation (str) we need these data to find the probability"
   ]
  },
  {
   "cell_type": "code",
   "execution_count": 9,
   "id": "310468ce",
   "metadata": {},
   "outputs": [
    {
     "name": "stdout",
     "output_type": "stream",
     "text": [
      "mean marks = 64.536\n",
      "marks std = 20.54070652690958\n"
     ]
    }
   ],
   "source": [
    "# mean\n",
    "marks_mean = stu_marks.mean()\n",
    "print('mean marks =' ,marks_mean)\n",
    "\n",
    "# std\n",
    "marks_std = stu_marks.std()\n",
    "print('marks std =' ,marks_std)"
   ]
  },
  {
   "cell_type": "code",
   "execution_count": 10,
   "id": "11fb146f",
   "metadata": {},
   "outputs": [],
   "source": [
    "# what is the probability of a student scoring UPTO 50%"
   ]
  },
  {
   "cell_type": "code",
   "execution_count": 11,
   "id": "edf290fb",
   "metadata": {},
   "outputs": [],
   "source": [
    "x=50"
   ]
  },
  {
   "cell_type": "code",
   "execution_count": 12,
   "id": "f584c347",
   "metadata": {},
   "outputs": [],
   "source": [
    "# * Probability always between 0-1 and starts from 0"
   ]
  },
  {
   "cell_type": "code",
   "execution_count": 13,
   "id": "e716a987",
   "metadata": {},
   "outputs": [],
   "source": [
    "import scipy.stats as st"
   ]
  },
  {
   "cell_type": "code",
   "execution_count": 14,
   "id": "2d776f6d",
   "metadata": {},
   "outputs": [],
   "source": [
    "# when X(data) is given than , Use CDF function to find the probability of scoring marks upto 50(x)"
   ]
  },
  {
   "cell_type": "code",
   "execution_count": 15,
   "id": "518220b0",
   "metadata": {},
   "outputs": [
    {
     "name": "stdout",
     "output_type": "stream",
     "text": [
      "0.23957573762345985\n"
     ]
    }
   ],
   "source": [
    "prob=st.norm.cdf(x,loc=marks_mean,scale=marks_std)\n",
    "print(prob)"
   ]
  },
  {
   "cell_type": "code",
   "execution_count": 16,
   "id": "9e1270fa",
   "metadata": {},
   "outputs": [],
   "source": [
    "# if you want to find the probability of scoring marks greater than 50, you can min. us prob (1-prob)"
   ]
  },
  {
   "cell_type": "code",
   "execution_count": 17,
   "id": "4fe231ab",
   "metadata": {},
   "outputs": [],
   "source": [
    "# z Distribution"
   ]
  },
  {
   "cell_type": "code",
   "execution_count": 18,
   "id": "9760f97f",
   "metadata": {},
   "outputs": [],
   "source": [
    "# z score\n",
    "#\n",
    "#               X - mean\n",
    "# formula   Z= --------------\n",
    "#                 Std"
   ]
  },
  {
   "cell_type": "code",
   "execution_count": 21,
   "id": "68b26c59",
   "metadata": {},
   "outputs": [],
   "source": [
    "# z=(x-mean)/std\n"
   ]
  },
  {
   "cell_type": "code",
   "execution_count": 20,
   "id": "795f9900",
   "metadata": {},
   "outputs": [
    {
     "data": {
      "text/plain": [
       "-0.7076679656056112"
      ]
     },
     "execution_count": 20,
     "metadata": {},
     "output_type": "execute_result"
    }
   ],
   "source": [
    "score=(x - marks_mean)/marks_std\n",
    "score"
   ]
  },
  {
   "cell_type": "code",
   "execution_count": 22,
   "id": "275ef503",
   "metadata": {},
   "outputs": [],
   "source": [
    "# check the score in z-table i.e ==>  Z-Table.com"
   ]
  },
  {
   "cell_type": "code",
   "execution_count": 23,
   "id": "2a0abc84",
   "metadata": {},
   "outputs": [],
   "source": [
    "#  * Problem 2-\n",
    "# find the probability of getting marks between 50 - 60\n"
   ]
  },
  {
   "cell_type": "code",
   "execution_count": 24,
   "id": "30c6aded",
   "metadata": {},
   "outputs": [
    {
     "data": {
      "text/plain": [
       "-0.7076679656056112"
      ]
     },
     "execution_count": 24,
     "metadata": {},
     "output_type": "execute_result"
    }
   ],
   "source": [
    "# for 50\n",
    "\n",
    "(50 - marks_mean)/marks_std"
   ]
  },
  {
   "cell_type": "code",
   "execution_count": 25,
   "id": "c2f80d7e",
   "metadata": {},
   "outputs": [
    {
     "data": {
      "text/plain": [
       "-0.2208297944404962"
      ]
     },
     "execution_count": 25,
     "metadata": {},
     "output_type": "execute_result"
    }
   ],
   "source": [
    "# for 60\n",
    "(60 - marks_mean)/marks_std"
   ]
  },
  {
   "cell_type": "code",
   "execution_count": null,
   "id": "5ddf8afc",
   "metadata": {},
   "outputs": [],
   "source": [
    "# Now look in to the z-table for both 50 and 60 differnt is the probability"
   ]
  },
  {
   "cell_type": "code",
   "execution_count": 58,
   "id": "b65dc4bd",
   "metadata": {},
   "outputs": [],
   "source": [
    "# 50 and 60\n",
    "both= .24196 - .41294"
   ]
  },
  {
   "cell_type": "code",
   "execution_count": 27,
   "id": "1028efae",
   "metadata": {},
   "outputs": [],
   "source": [
    "#"
   ]
  },
  {
   "cell_type": "code",
   "execution_count": 28,
   "id": "c18e983e",
   "metadata": {},
   "outputs": [],
   "source": [
    "#"
   ]
  },
  {
   "cell_type": "code",
   "execution_count": 29,
   "id": "885443da",
   "metadata": {},
   "outputs": [],
   "source": [
    "# * Hypothesis"
   ]
  },
  {
   "cell_type": "code",
   "execution_count": 33,
   "id": "f76a961f",
   "metadata": {},
   "outputs": [],
   "source": [
    "# make a guess( not wild guess) * the situation based on reasonable assumption\n",
    "\n",
    "# 1) Null Hypothesis = HO = > Desicision always lead to satus quo current sattus/ asssumption does not change\n",
    "\n",
    "# 2) Alternate Hypotensis = HA > desicision leads to opposite of ho"
   ]
  },
  {
   "cell_type": "code",
   "execution_count": 31,
   "id": "0fc3607c",
   "metadata": {},
   "outputs": [],
   "source": [
    "#"
   ]
  },
  {
   "cell_type": "code",
   "execution_count": 32,
   "id": "493b6a7c",
   "metadata": {},
   "outputs": [],
   "source": [
    "#  * One tail and two tail test"
   ]
  },
  {
   "cell_type": "code",
   "execution_count": 38,
   "id": "bb777548",
   "metadata": {},
   "outputs": [],
   "source": [
    "# 1) one tail test = left tail test\n",
    "\n",
    "# ex= car mileage test\n",
    "# Ho - aLL our cars average mileage is greater than 25 kmpl\n",
    "# Ha - Average mileage is less than 25 kmpl\n",
    "\n",
    "# Left tailed test : the alternative hypothesis contanins the ' <' sign"
   ]
  },
  {
   "cell_type": "code",
   "execution_count": 36,
   "id": "84de81f2",
   "metadata": {},
   "outputs": [],
   "source": [
    "# 2) Right tail test\n",
    "\n",
    "# ex= new method will reduce delivery time\n",
    "# HO - our new home delivery method reduces delivery time.\n",
    "# HA - new method will increse the delivery time\n",
    "\n",
    "# Right tailed test: The Alternative Hypothesis conatin the \" > \" sign"
   ]
  },
  {
   "cell_type": "code",
   "execution_count": 37,
   "id": "f80cfb94",
   "metadata": {},
   "outputs": [],
   "source": [
    "# 3) Two tail test \n",
    "\n",
    "# ex= different in car mileage when  drove by two different persons\n",
    "\n",
    "# Two tailed test: The alternative Hypothesis contains the \" =/ 'is not euqal'\" sign"
   ]
  },
  {
   "cell_type": "code",
   "execution_count": 39,
   "id": "babac0be",
   "metadata": {},
   "outputs": [],
   "source": [
    "#"
   ]
  },
  {
   "cell_type": "code",
   "execution_count": 40,
   "id": "5bcf2de2",
   "metadata": {},
   "outputs": [],
   "source": [
    "#"
   ]
  },
  {
   "cell_type": "code",
   "execution_count": 41,
   "id": "6df500e2",
   "metadata": {},
   "outputs": [],
   "source": [
    "# * Problem"
   ]
  },
  {
   "cell_type": "code",
   "execution_count": 44,
   "id": "9b0cec74",
   "metadata": {},
   "outputs": [],
   "source": [
    "# A car manufactureing company claim mileage of all their is 25 kmpl the popualtion standard deviation is know from \n",
    "# the past exprience to be 1.5 kmpl a car rental company wants to test  the null hypothesis that the average milage\n",
    "# is at lest 25 kmpl car rental representtative drive 30 cars (sample) of the same company recorded each car mileage \n",
    "# the averge milaege of the sample tumed out to be 24.2 kmpl\n",
    "\n",
    "\n",
    "# Test the null Hypothesis ?\n",
    "\n",
    "# (HO) Nul  hypothesis > = 25\n",
    "# (H1) Alternative hypothesis < 25"
   ]
  },
  {
   "cell_type": "code",
   "execution_count": 45,
   "id": "8b0bd88a",
   "metadata": {},
   "outputs": [],
   "source": [
    "import numpy as np"
   ]
  },
  {
   "cell_type": "code",
   "execution_count": 46,
   "id": "257499f4",
   "metadata": {},
   "outputs": [],
   "source": [
    "mean=25\n",
    "sample_mean = 24.2\n",
    "std = 1.5\n",
    "n = 30"
   ]
  },
  {
   "cell_type": "code",
   "execution_count": 47,
   "id": "fe7adfc7",
   "metadata": {},
   "outputs": [
    {
     "data": {
      "text/plain": [
       "-2.921186973360889"
      ]
     },
     "execution_count": 47,
     "metadata": {},
     "output_type": "execute_result"
    }
   ],
   "source": [
    "z = (sample_mean - mean) / (std/np.sqrt(30))\n",
    "z"
   ]
  },
  {
   "cell_type": "code",
   "execution_count": 48,
   "id": "4aecb0ff",
   "metadata": {},
   "outputs": [],
   "source": [
    "# below z score need to check in the z-table to get the P-value"
   ]
  },
  {
   "cell_type": "code",
   "execution_count": 50,
   "id": "5d38240a",
   "metadata": {},
   "outputs": [
    {
     "data": {
      "text/plain": [
       "0.0017435024460706768"
      ]
     },
     "execution_count": 50,
     "metadata": {},
     "output_type": "execute_result"
    }
   ],
   "source": [
    "# using statistics tools\n",
    "\n",
    "import scipy.stats as st\n",
    "import numpy as np\n",
    "P_value = st.norm.cdf(sample_mean,loc=mean,scale=std/np.sqrt(30))\n",
    "\n",
    "P_value"
   ]
  },
  {
   "cell_type": "code",
   "execution_count": 51,
   "id": "91d835de",
   "metadata": {},
   "outputs": [],
   "source": [
    "# ^ Important points\n",
    "# * standard alpha level = 0.05\n",
    "# * if P_value is < 0.05 then we reject null Hypothesis (HO)\n",
    "# * if P_value is > 0.05 then we failed to reject the Ho\n",
    "\n",
    "\n",
    "# Conclusion: As the p_value is less than aplha (0.05) we reject the null hypothesis (mileage > = 25kmpl)\n",
    "#            . which also mean that all the milage so rental company will not buy the cars"
   ]
  },
  {
   "cell_type": "code",
   "execution_count": 52,
   "id": "7194d89d",
   "metadata": {},
   "outputs": [],
   "source": [
    "#  Type 1 error - If HO is True and you reject Ho\n",
    "# * In our example . if averge car milage is really 25 or > 25 kmpl and rental agency reject it. its type 1 error"
   ]
  },
  {
   "cell_type": "code",
   "execution_count": 53,
   "id": "7a5e1893",
   "metadata": {},
   "outputs": [],
   "source": [
    "# Type 2 Error - If HO is false and ypo failed to reject HO\n",
    "# * if averge car milage is really < 25 kmpl but rental agency buying cars (failed to reject HO) its type 2 error"
   ]
  },
  {
   "cell_type": "code",
   "execution_count": 54,
   "id": "e9151894",
   "metadata": {},
   "outputs": [],
   "source": [
    "# wxample in my word:  alpha = 0.05\n",
    "\n",
    "# P_value < alpha ==> Reject HO\n",
    "# P_value > alpha ==> We failed to rejext HO"
   ]
  },
  {
   "cell_type": "code",
   "execution_count": 55,
   "id": "f946e12c",
   "metadata": {},
   "outputs": [],
   "source": [
    "#"
   ]
  },
  {
   "cell_type": "code",
   "execution_count": 56,
   "id": "35fe2fd7",
   "metadata": {},
   "outputs": [],
   "source": [
    "#"
   ]
  },
  {
   "cell_type": "code",
   "execution_count": 57,
   "id": "3569e2d7",
   "metadata": {},
   "outputs": [],
   "source": [
    "#  * Statistics Tools\n",
    "\n",
    "# 1) ttest or students ttest\n",
    "# 2) ANOVA\n",
    "# 3) chi-square"
   ]
  },
  {
   "cell_type": "code",
   "execution_count": null,
   "id": "bbc455f4",
   "metadata": {},
   "outputs": [],
   "source": []
  }
 ],
 "metadata": {
  "kernelspec": {
   "display_name": "Python 3 (ipykernel)",
   "language": "python",
   "name": "python3"
  },
  "language_info": {
   "codemirror_mode": {
    "name": "ipython",
    "version": 3
   },
   "file_extension": ".py",
   "mimetype": "text/x-python",
   "name": "python",
   "nbconvert_exporter": "python",
   "pygments_lexer": "ipython3",
   "version": "3.9.12"
  }
 },
 "nbformat": 4,
 "nbformat_minor": 5
}
