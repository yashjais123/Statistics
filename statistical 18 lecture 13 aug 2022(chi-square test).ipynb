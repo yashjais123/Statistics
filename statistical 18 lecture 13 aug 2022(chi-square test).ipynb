{
 "cells": [
  {
   "cell_type": "markdown",
   "id": "abd34781",
   "metadata": {},
   "source": [
    "# Chi - Square Test"
   ]
  },
  {
   "cell_type": "markdown",
   "id": "2d3db69d",
   "metadata": {},
   "source": [
    "# \n",
    "# This test most of the time used for."
   ]
  },
  {
   "cell_type": "markdown",
   "id": "3d4b74c7",
   "metadata": {},
   "source": [
    "# * Goodness of fit to a distribution : the chi-square test can be used to determine whether your data obeys a know theoretical Probability distribution such as the normal or poission distribution"
   ]
  },
  {
   "cell_type": "markdown",
   "id": "a84cc620",
   "metadata": {},
   "source": [
    "#  Example :- How much sales we can expart this week (lets pizza business ).according to saleman below are the details"
   ]
  },
  {
   "cell_type": "markdown",
   "id": "2a40dadd",
   "metadata": {},
   "source": [
    "#  Expected sales in thousand ______________[25,28,21,30,45,58,57]"
   ]
  },
  {
   "cell_type": "markdown",
   "id": "38f1aa6e",
   "metadata": {},
   "source": [
    "# Observed (actual) sales in thousand____[23,26,25,31,48,63,50]"
   ]
  },
  {
   "cell_type": "markdown",
   "id": "78e9b50a",
   "metadata": {},
   "source": [
    "# \n",
    "# lets Understand How to work on this situation."
   ]
  },
  {
   "cell_type": "markdown",
   "id": "2dd8c4cd",
   "metadata": {},
   "source": [
    "# WE will do this Hypotheisis testing with a Significatince of 10% (0.1).(This will be given or you can test according interest)"
   ]
  },
  {
   "cell_type": "code",
   "execution_count": 1,
   "id": "f7295e71",
   "metadata": {},
   "outputs": [],
   "source": [
    "# \n",
    "\n",
    "\n",
    "#                                    (observed - Expected)2\n",
    "\n",
    "# (Chi -Square Statistic) X2 = { ___________________________________\n",
    "\n",
    "#                                          Expected\n"
   ]
  },
  {
   "cell_type": "markdown",
   "id": "58e0809a",
   "metadata": {},
   "source": [
    "# ^ Chi - Square Statistic Formula"
   ]
  },
  {
   "cell_type": "code",
   "execution_count": 2,
   "id": "5db71378",
   "metadata": {},
   "outputs": [],
   "source": [
    "import numpy as np"
   ]
  },
  {
   "cell_type": "code",
   "execution_count": 5,
   "id": "3193e800",
   "metadata": {},
   "outputs": [
    {
     "name": "stdout",
     "output_type": "stream",
     "text": [
      "Our chi- square Test statistics score = > 2.5887788436608763\n"
     ]
    }
   ],
   "source": [
    "# Expected [25,28,21,30,45,58,57]\n",
    "# Observed [23,26,25,31,48,63,50]\n",
    "\n",
    "chi_ind=[np.square(23-25)/25,\n",
    "np.square(26-28)/28,\n",
    "np.square(25-21)/21,\n",
    "np.square(31-30)/30,\n",
    "np.square(48-45)/45,\n",
    "np.square(63-58)/58,\n",
    "np.square(50-57)/57]\n",
    "\n",
    "print(\"Our chi- square Test statistics score = >\", np.sum(chi_ind))"
   ]
  },
  {
   "cell_type": "markdown",
   "id": "d689e2fa",
   "metadata": {},
   "source": [
    "# lets check chi - square distribution table"
   ]
  },
  {
   "cell_type": "markdown",
   "id": "a18287ff",
   "metadata": {},
   "source": [
    "# what is chi-square distriibution Table ?"
   ]
  },
  {
   "cell_type": "markdown",
   "id": "9c050bbc",
   "metadata": {},
   "source": [
    "# The chi - square distribution table is a table that show the critical values of the chi-square distribution . to use the chi-square distribution table you only need to know two values:"
   ]
  },
  {
   "cell_type": "markdown",
   "id": "e078c465",
   "metadata": {},
   "source": [
    "# * The defrees of freedom for the chi-square test"
   ]
  },
  {
   "cell_type": "markdown",
   "id": "ee9b787b",
   "metadata": {},
   "source": [
    "# * The alpha level for the test (common choice are 0.01,0.05, and 0.10)"
   ]
  },
  {
   "cell_type": "markdown",
   "id": "74c6a198",
   "metadata": {},
   "source": [
    "# \n",
    "\n",
    "# Degrees of Freedom - which mean you are allowed to choice/very data at certain extent, mean freedom is given to very the data "
   ]
  },
  {
   "cell_type": "markdown",
   "id": "e191e24c",
   "metadata": {},
   "source": [
    "# Example :- (N-1) here N is total events i.e (7-1)=6"
   ]
  },
  {
   "cell_type": "markdown",
   "id": "9aa24fce",
   "metadata": {},
   "source": [
    "# DF=6 and Significance level = 0.10"
   ]
  },
  {
   "cell_type": "markdown",
   "id": "4ea511da",
   "metadata": {},
   "source": [
    "# and Our test score = 2.58"
   ]
  },
  {
   "cell_type": "markdown",
   "id": "3099b06b",
   "metadata": {},
   "source": [
    "# lets check the critical scorre where DF and signifinace level converge"
   ]
  },
  {
   "cell_type": "markdown",
   "id": "9f8b9a05",
   "metadata": {},
   "source": [
    "# Conclusion "
   ]
  },
  {
   "cell_type": "markdown",
   "id": "2e9a2c57",
   "metadata": {},
   "source": [
    "# as the critical score ( in the table) is (10.645) greater than our test score (2.58). we cannot reject the null hypothesis which alos mean that salesman prediction/ expectiation was correct"
   ]
  },
  {
   "cell_type": "markdown",
   "id": "a5cb77dd",
   "metadata": {},
   "source": [
    "# \n",
    "\n",
    "\n",
    "\n",
    "\n",
    "\n",
    "\n",
    "\n",
    "\n",
    "\n",
    "\n",
    "\n",
    "\n",
    "# * Covariance "
   ]
  },
  {
   "cell_type": "code",
   "execution_count": 6,
   "id": "87eb6ee1",
   "metadata": {},
   "outputs": [],
   "source": [
    "# formula :- copy "
   ]
  },
  {
   "cell_type": "markdown",
   "id": "4a4b4f1d",
   "metadata": {},
   "source": [
    "# x and y = variable"
   ]
  },
  {
   "cell_type": "markdown",
   "id": "83504dd8",
   "metadata": {},
   "source": [
    "# x bar = mean of x"
   ]
  },
  {
   "cell_type": "markdown",
   "id": "aa82cfd1",
   "metadata": {},
   "source": [
    "# y bar = mean of y"
   ]
  },
  {
   "cell_type": "markdown",
   "id": "8aedf934",
   "metadata": {},
   "source": [
    "# n = number of samples"
   ]
  },
  {
   "cell_type": "markdown",
   "id": "33ae8b7b",
   "metadata": {},
   "source": [
    "# X increase and Y increase - Positively related (Age vs Salary)"
   ]
  },
  {
   "cell_type": "markdown",
   "id": "ad801c17",
   "metadata": {},
   "source": [
    "# X increase and Y decrease - Negatively related (speed vs time to cover distance)"
   ]
  },
  {
   "cell_type": "markdown",
   "id": "617076b7",
   "metadata": {},
   "source": [
    "# \n",
    "\n",
    "\n",
    "# * Correlation"
   ]
  },
  {
   "cell_type": "markdown",
   "id": "69355c8c",
   "metadata": {},
   "source": [
    "# formula"
   ]
  },
  {
   "cell_type": "code",
   "execution_count": 7,
   "id": "e3f5573f",
   "metadata": {},
   "outputs": [],
   "source": [
    "# \n",
    "#                cov (x,y)\n",
    "# Corr(x,y)= ___________________\n",
    "#                sigma x  sigma y"
   ]
  },
  {
   "cell_type": "markdown",
   "id": "5d774ae2",
   "metadata": {},
   "source": [
    "# * There are four measure of correlation"
   ]
  },
  {
   "cell_type": "markdown",
   "id": "70581ce1",
   "metadata": {},
   "source": [
    "# * Scatter diagram"
   ]
  },
  {
   "cell_type": "markdown",
   "id": "b9a55fca",
   "metadata": {},
   "source": [
    "# * Product - moment correlation coefficient"
   ]
  },
  {
   "cell_type": "markdown",
   "id": "0a9354ce",
   "metadata": {},
   "source": [
    "# * Rank correlation coefficient"
   ]
  },
  {
   "cell_type": "markdown",
   "id": "77e41fd8",
   "metadata": {},
   "source": [
    "# * coefficient of concurrent deviations"
   ]
  },
  {
   "cell_type": "code",
   "execution_count": 8,
   "id": "edcd9660",
   "metadata": {},
   "outputs": [],
   "source": [
    "# Keys differences"
   ]
  },
  {
   "cell_type": "code",
   "execution_count": 9,
   "id": "0f82de0f",
   "metadata": {},
   "outputs": [],
   "source": [
    "# Summary"
   ]
  },
  {
   "cell_type": "code",
   "execution_count": null,
   "id": "0c9d437d",
   "metadata": {},
   "outputs": [],
   "source": []
  }
 ],
 "metadata": {
  "kernelspec": {
   "display_name": "Python 3 (ipykernel)",
   "language": "python",
   "name": "python3"
  },
  "language_info": {
   "codemirror_mode": {
    "name": "ipython",
    "version": 3
   },
   "file_extension": ".py",
   "mimetype": "text/x-python",
   "name": "python",
   "nbconvert_exporter": "python",
   "pygments_lexer": "ipython3",
   "version": "3.9.12"
  }
 },
 "nbformat": 4,
 "nbformat_minor": 5
}
