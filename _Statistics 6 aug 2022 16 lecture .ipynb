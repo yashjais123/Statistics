{
 "cells": [
  {
   "cell_type": "code",
   "execution_count": 1,
   "id": "d64d8cc4",
   "metadata": {},
   "outputs": [],
   "source": [
    "# mean (using stat)\n",
    "\n",
    "import statistics as st"
   ]
  },
  {
   "cell_type": "code",
   "execution_count": 2,
   "id": "04f48985",
   "metadata": {},
   "outputs": [
    {
     "name": "stdout",
     "output_type": "stream",
     "text": [
      "45\n"
     ]
    }
   ],
   "source": [
    "x=[10,20,30,40,35,40,40,50,50,50,50,45,50,60,70,80]\n",
    "\n",
    "print(st.mean(x))"
   ]
  },
  {
   "cell_type": "code",
   "execution_count": 3,
   "id": "7a342ef8",
   "metadata": {},
   "outputs": [],
   "source": [
    "# using pandas \n",
    "# import pandas as pd\n",
    "# x_ = pd.DataFrame(x)\n",
    "# print(x_.mean)"
   ]
  },
  {
   "cell_type": "code",
   "execution_count": 4,
   "id": "8d6e9abd",
   "metadata": {},
   "outputs": [
    {
     "name": "stdout",
     "output_type": "stream",
     "text": [
      "47.5\n"
     ]
    }
   ],
   "source": [
    "#\n",
    "print(st.median(x))"
   ]
  },
  {
   "cell_type": "code",
   "execution_count": 5,
   "id": "d5b0c28b",
   "metadata": {},
   "outputs": [
    {
     "name": "stdout",
     "output_type": "stream",
     "text": [
      "50\n"
     ]
    }
   ],
   "source": [
    "#\n",
    "print(st.mode(x))"
   ]
  },
  {
   "cell_type": "code",
   "execution_count": 6,
   "id": "d550e3a8",
   "metadata": {},
   "outputs": [],
   "source": [
    "# 5 user of variable: dependent and independent variable"
   ]
  },
  {
   "cell_type": "code",
   "execution_count": 7,
   "id": "2bfc2c98",
   "metadata": {},
   "outputs": [],
   "source": [
    "# 6 type of variable : continue and categorical variable\n",
    "\n",
    "# type of variable\n",
    "# 1 Numerical\n",
    "# 1)=continues\n",
    "      # 1 age\n",
    "      # 2 marks\n",
    "# 2)=Discrete\n",
    "     # 1 shoe size\n",
    "     # 2 Rank\n",
    "        \n",
    "\n",
    "# 2 Categorical (string)\n",
    "# 1)=Oridinal\n",
    "    # 1 rating\n",
    "    # 2 education level\n",
    "# 2)=Nominal\n",
    "   # 1 Gender\n",
    "   # 2 Brands"
   ]
  },
  {
   "cell_type": "code",
   "execution_count": 8,
   "id": "760c93a7",
   "metadata": {},
   "outputs": [],
   "source": [
    "# Descriptive Statistics\n",
    "\n",
    " # 1) measure of centrl tendency (mean,median,mode)\n",
    " # 2) measure of disprsion (spread)(variance and standard deviation)"
   ]
  },
  {
   "cell_type": "code",
   "execution_count": 9,
   "id": "0d901ec7",
   "metadata": {},
   "outputs": [],
   "source": [
    "# measure of dispersion\n",
    "\n",
    "# formula copy me hao"
   ]
  },
  {
   "cell_type": "code",
   "execution_count": 10,
   "id": "2861c2b8",
   "metadata": {},
   "outputs": [],
   "source": [
    "# x=data, mu=mean, N= occurance"
   ]
  },
  {
   "cell_type": "code",
   "execution_count": 11,
   "id": "34f6022c",
   "metadata": {},
   "outputs": [],
   "source": [
    "import numpy as np"
   ]
  },
  {
   "cell_type": "code",
   "execution_count": 12,
   "id": "dbee27fb",
   "metadata": {},
   "outputs": [
    {
     "name": "stdout",
     "output_type": "stream",
     "text": [
      "36.666666666666664\n"
     ]
    }
   ],
   "source": [
    "x=[20,34,56]\n",
    "\n",
    "avg=np.mean(x)\n",
    "print(avg)"
   ]
  },
  {
   "cell_type": "code",
   "execution_count": 15,
   "id": "092cbc3f",
   "metadata": {},
   "outputs": [
    {
     "data": {
      "text/plain": [
       "219.55555555555557"
      ]
     },
     "execution_count": 15,
     "metadata": {},
     "output_type": "execute_result"
    }
   ],
   "source": [
    "np.sum((np.square(20 - avg)+ np.square(34 - avg)+np.square(56 - avg))/3)"
   ]
  },
  {
   "cell_type": "code",
   "execution_count": 16,
   "id": "4dcee2c9",
   "metadata": {},
   "outputs": [
    {
     "name": "stdout",
     "output_type": "stream",
     "text": [
      "variance - 219.55555555555557\n",
      "std.DV - 14.817407180595247\n"
     ]
    }
   ],
   "source": [
    "#\n",
    "import numpy as np\n",
    "# variance = mean of square diviation (below)\n",
    "\n",
    "print('variance -',np.var(x))\n",
    "\n",
    "# std = sqrt of variance\n",
    "\n",
    "print('std.DV -',np.std(x))"
   ]
  },
  {
   "cell_type": "code",
   "execution_count": 17,
   "id": "1c1fcadf",
   "metadata": {},
   "outputs": [],
   "source": [
    "# Table 1. comparison of sample statistics and population parameters\n",
    "\n",
    "# Sample statistics\n",
    "# population parameters    "
   ]
  },
  {
   "cell_type": "code",
   "execution_count": 19,
   "id": "200320c5",
   "metadata": {},
   "outputs": [],
   "source": [
    "# \n",
    "import pandas as pd\n",
    "# Quantiles\n",
    "y=[10,20,30,40,50,60,70,80]\n",
    "\n",
    "y_=pd.DataFrame(y)"
   ]
  },
  {
   "cell_type": "code",
   "execution_count": 21,
   "id": "5b27827f",
   "metadata": {},
   "outputs": [
    {
     "data": {
      "text/html": [
       "<div>\n",
       "<style scoped>\n",
       "    .dataframe tbody tr th:only-of-type {\n",
       "        vertical-align: middle;\n",
       "    }\n",
       "\n",
       "    .dataframe tbody tr th {\n",
       "        vertical-align: top;\n",
       "    }\n",
       "\n",
       "    .dataframe thead th {\n",
       "        text-align: right;\n",
       "    }\n",
       "</style>\n",
       "<table border=\"1\" class=\"dataframe\">\n",
       "  <thead>\n",
       "    <tr style=\"text-align: right;\">\n",
       "      <th></th>\n",
       "      <th>0</th>\n",
       "    </tr>\n",
       "  </thead>\n",
       "  <tbody>\n",
       "    <tr>\n",
       "      <th>count</th>\n",
       "      <td>8.000000</td>\n",
       "    </tr>\n",
       "    <tr>\n",
       "      <th>mean</th>\n",
       "      <td>45.000000</td>\n",
       "    </tr>\n",
       "    <tr>\n",
       "      <th>std</th>\n",
       "      <td>24.494897</td>\n",
       "    </tr>\n",
       "    <tr>\n",
       "      <th>min</th>\n",
       "      <td>10.000000</td>\n",
       "    </tr>\n",
       "    <tr>\n",
       "      <th>25%</th>\n",
       "      <td>27.500000</td>\n",
       "    </tr>\n",
       "    <tr>\n",
       "      <th>50%</th>\n",
       "      <td>45.000000</td>\n",
       "    </tr>\n",
       "    <tr>\n",
       "      <th>75%</th>\n",
       "      <td>62.500000</td>\n",
       "    </tr>\n",
       "    <tr>\n",
       "      <th>max</th>\n",
       "      <td>80.000000</td>\n",
       "    </tr>\n",
       "  </tbody>\n",
       "</table>\n",
       "</div>"
      ],
      "text/plain": [
       "               0\n",
       "count   8.000000\n",
       "mean   45.000000\n",
       "std    24.494897\n",
       "min    10.000000\n",
       "25%    27.500000\n",
       "50%    45.000000\n",
       "75%    62.500000\n",
       "max    80.000000"
      ]
     },
     "execution_count": 21,
     "metadata": {},
     "output_type": "execute_result"
    }
   ],
   "source": [
    "y_.describe()"
   ]
  },
  {
   "cell_type": "code",
   "execution_count": 22,
   "id": "f1ea8c9b",
   "metadata": {},
   "outputs": [
    {
     "name": "stdout",
     "output_type": "stream",
     "text": [
      "35.0\n"
     ]
    }
   ],
   "source": [
    "# inter Quantiles\n",
    "# Q3 - Q1\n",
    "\n",
    "iqr=62.50-27.50\n",
    "print(iqr)"
   ]
  },
  {
   "cell_type": "code",
   "execution_count": 23,
   "id": "7b5b895e",
   "metadata": {},
   "outputs": [
    {
     "name": "stdout",
     "output_type": "stream",
     "text": [
      "70\n"
     ]
    }
   ],
   "source": [
    "# Quantile Range\n",
    "# max - min\n",
    "max=80\n",
    "min=10\n",
    "print(max-min)"
   ]
  },
  {
   "cell_type": "code",
   "execution_count": 24,
   "id": "840d3242",
   "metadata": {},
   "outputs": [
    {
     "data": {
      "text/plain": [
       "35.0"
      ]
     },
     "execution_count": 24,
     "metadata": {},
     "output_type": "execute_result"
    }
   ],
   "source": [
    "# IQrange\n",
    "\n",
    "iqr"
   ]
  },
  {
   "cell_type": "code",
   "execution_count": 31,
   "id": "220e69f5",
   "metadata": {},
   "outputs": [],
   "source": [
    "# type of distribution\n",
    "\n",
    "# 1 = Normal distribution = mean is zero(0) and standard deviation is one(1) ex= ek point me jada hota ha 1,2,3,4,3,2,1,\n",
    "\n",
    "# 2 = Bernoulli distribution = toss 1('success') and 0('failure')\n",
    "\n",
    "# formula = p^x(1 - p)^1-x\n",
    "\n",
    "# ex = p= probability of success\n",
    "#     (1-p) = probability of failure\n",
    "#     NO of Trial = one 1)success(p)\n",
    "#                        2) failure(1-p)"
   ]
  },
  {
   "cell_type": "code",
   "execution_count": 29,
   "id": "9ded5161",
   "metadata": {},
   "outputs": [],
   "source": [
    "# ex- formula p(1) = p^1(1-p)^1-1\n",
    "# ex 2 formula p(0)= p^0(1-p)^1-0"
   ]
  },
  {
   "cell_type": "code",
   "execution_count": 33,
   "id": "a3698424",
   "metadata": {},
   "outputs": [],
   "source": [
    "# 3 Binomial distribution = same as it 2) Bernoulli distribution\n",
    "\n",
    "# 4 Uniform distribution = outcome are eually likely\n",
    "\n"
   ]
  },
  {
   "cell_type": "code",
   "execution_count": 34,
   "id": "6a9bdfc4",
   "metadata": {},
   "outputs": [],
   "source": [
    "# * Inferential statistics = sample lena data se ex= exit poll news tv"
   ]
  },
  {
   "cell_type": "code",
   "execution_count": null,
   "id": "209f02bd",
   "metadata": {},
   "outputs": [],
   "source": [
    "# * Central limit therom = 1) normal distribution\n",
    "#                          @) "
   ]
  }
 ],
 "metadata": {
  "kernelspec": {
   "display_name": "Python 3 (ipykernel)",
   "language": "python",
   "name": "python3"
  },
  "language_info": {
   "codemirror_mode": {
    "name": "ipython",
    "version": 3
   },
   "file_extension": ".py",
   "mimetype": "text/x-python",
   "name": "python",
   "nbconvert_exporter": "python",
   "pygments_lexer": "ipython3",
   "version": "3.9.12"
  }
 },
 "nbformat": 4,
 "nbformat_minor": 5
}
